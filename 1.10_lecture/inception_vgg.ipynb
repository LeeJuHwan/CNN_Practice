{
  "cells": [
    {
      "cell_type": "code",
      "execution_count": null,
      "metadata": {
        "id": "4beyXGE4IBsc"
      },
      "outputs": [],
      "source": [
        "from keras.models import Sequential\n",
        "from keras.layers import Conv2D, MaxPooling2D, Flatten, Dense, Dropout,BatchNormalization, AveragePooling2D\n",
        "from keras import regularizers\n",
        "from keras.callbacks import ModelCheckpoint, EarlyStopping"
      ]
    },
    {
      "cell_type": "markdown",
      "metadata": {
        "id": "J3GwLLsqNHwL"
      },
      "source": [
        "### VGG 모델 구현하기"
      ]
    },
    {
      "cell_type": "code",
      "execution_count": null,
      "metadata": {
        "id": "bqWSk8ykIz9H"
      },
      "outputs": [],
      "source": [
        "# MODEL\n",
        "vgg = Sequential()\n",
        "\n",
        "# CONV1\n",
        "vgg.add(Conv2D(filters = 64, kernel_size = 3, padding = \"same\", input_shape = (224,224,3), activation = \"relu\"))\n",
        "vgg.add(Conv2D(filters = 64, kernel_size = 3, padding = \"same\", activation = \"relu\"))\n",
        "vgg.add(MaxPooling2D(2))\n",
        "\n",
        "# CONV2\n",
        "vgg.add(Conv2D(filters = 128, kernel_size = 3, padding = \"same\", activation = \"relu\"))\n",
        "vgg.add(Conv2D(filters = 128, kernel_size = 3, padding = \"same\", activation = \"relu\"))\n",
        "vgg.add(MaxPooling2D(2))\n",
        "\n",
        "# CONV3\n",
        "vgg.add(Conv2D(filters = 256, kernel_size = 3, padding = \"same\", activation = \"relu\"))\n",
        "vgg.add(Conv2D(filters = 256, kernel_size = 3, padding = \"same\", activation = \"relu\"))\n",
        "vgg.add(Conv2D(filters = 256, kernel_size = 3, padding = \"same\", activation = \"relu\"))\n",
        "vgg.add(MaxPooling2D(2))\n",
        "\n",
        "# CONV4\n",
        "vgg.add(Conv2D(filters = 512, kernel_size = 3, padding = \"same\", activation = \"relu\"))\n",
        "vgg.add(Conv2D(filters = 512, kernel_size = 3, padding = \"same\", activation = \"relu\"))\n",
        "vgg.add(Conv2D(filters = 512, kernel_size = 3, padding = \"same\", activation = \"relu\"))\n",
        "vgg.add(MaxPooling2D(2))\n",
        "\n",
        "# CONV5\n",
        "vgg.add(Conv2D(filters = 512, kernel_size = 3, padding = \"same\", activation = \"relu\"))\n",
        "vgg.add(Conv2D(filters = 512, kernel_size = 3, padding = \"same\", activation = \"relu\"))\n",
        "vgg.add(Conv2D(filters = 512, kernel_size = 3, padding = \"same\", activation = \"relu\"))\n",
        "vgg.add(MaxPooling2D(2))\n",
        "\n",
        "# FC\n",
        "vgg.add(Flatten())\n",
        "vgg.add(Dense(4096, activation = \"relu\"))\n",
        "vgg.add(Dense(4096, activation = \"relu\"))\n",
        "vgg.add(Dense(1000, activation = \"softmax\"))"
      ]
    },
    {
      "cell_type": "code",
      "execution_count": null,
      "metadata": {
        "colab": {
          "base_uri": "https://localhost:8080/"
        },
        "id": "Gp8R68z5JqKZ",
        "outputId": "d60f4b94-163d-420f-c09a-e2d1e737d692"
      },
      "outputs": [
        {
          "name": "stdout",
          "output_type": "stream",
          "text": [
            "Model: \"sequential_8\"\n",
            "_________________________________________________________________\n",
            " Layer (type)                Output Shape              Param #   \n",
            "=================================================================\n",
            " conv2d_55 (Conv2D)          (None, 224, 224, 64)      1792      \n",
            "                                                                 \n",
            " conv2d_56 (Conv2D)          (None, 224, 224, 64)      36928     \n",
            "                                                                 \n",
            " max_pooling2d_23 (MaxPoolin  (None, 112, 112, 64)     0         \n",
            " g2D)                                                            \n",
            "                                                                 \n",
            " conv2d_57 (Conv2D)          (None, 112, 112, 128)     73856     \n",
            "                                                                 \n",
            " conv2d_58 (Conv2D)          (None, 112, 112, 128)     147584    \n",
            "                                                                 \n",
            " max_pooling2d_24 (MaxPoolin  (None, 56, 56, 128)      0         \n",
            " g2D)                                                            \n",
            "                                                                 \n",
            " conv2d_59 (Conv2D)          (None, 56, 56, 256)       295168    \n",
            "                                                                 \n",
            " conv2d_60 (Conv2D)          (None, 56, 56, 256)       590080    \n",
            "                                                                 \n",
            " conv2d_61 (Conv2D)          (None, 56, 56, 256)       590080    \n",
            "                                                                 \n",
            " max_pooling2d_25 (MaxPoolin  (None, 28, 28, 256)      0         \n",
            " g2D)                                                            \n",
            "                                                                 \n",
            " conv2d_62 (Conv2D)          (None, 28, 28, 512)       1180160   \n",
            "                                                                 \n",
            " conv2d_63 (Conv2D)          (None, 28, 28, 512)       2359808   \n",
            "                                                                 \n",
            " conv2d_64 (Conv2D)          (None, 28, 28, 512)       2359808   \n",
            "                                                                 \n",
            " max_pooling2d_26 (MaxPoolin  (None, 14, 14, 512)      0         \n",
            " g2D)                                                            \n",
            "                                                                 \n",
            " conv2d_65 (Conv2D)          (None, 14, 14, 512)       2359808   \n",
            "                                                                 \n",
            " conv2d_66 (Conv2D)          (None, 14, 14, 512)       2359808   \n",
            "                                                                 \n",
            " conv2d_67 (Conv2D)          (None, 14, 14, 512)       2359808   \n",
            "                                                                 \n",
            " max_pooling2d_27 (MaxPoolin  (None, 7, 7, 512)        0         \n",
            " g2D)                                                            \n",
            "                                                                 \n",
            " flatten_5 (Flatten)         (None, 25088)             0         \n",
            "                                                                 \n",
            " dense_15 (Dense)            (None, 4096)              102764544 \n",
            "                                                                 \n",
            " dense_16 (Dense)            (None, 4096)              16781312  \n",
            "                                                                 \n",
            " dense_17 (Dense)            (None, 1000)              4097000   \n",
            "                                                                 \n",
            "=================================================================\n",
            "Total params: 138,357,544\n",
            "Trainable params: 138,357,544\n",
            "Non-trainable params: 0\n",
            "_________________________________________________________________\n"
          ]
        }
      ],
      "source": [
        "vgg.summary()"
      ]
    },
    {
      "cell_type": "code",
      "execution_count": null,
      "metadata": {
        "id": "k6yIqp33WA19"
      },
      "outputs": [],
      "source": [
        "from keras.layers import Concatenate"
      ]
    },
    {
      "cell_type": "markdown",
      "metadata": {
        "id": "_QCHiUaMY0Mu"
      },
      "source": [
        "### 인셉션 이해하기"
      ]
    },
    {
      "cell_type": "code",
      "execution_count": null,
      "metadata": {
        "id": "6hiZUka7RTQB"
      },
      "outputs": [],
      "source": [
        "def inception(x, filters_1x1, filters_3x3_reduce,filters_3x3, filters_5x5_reduce, filters_5x5, filters_pool_proj) :\n",
        "  conv_1x1 = Conv2D(filters_1x1, padding = \"same\", kernel_size = 1, name='conv_1x1')(x)\n",
        "\n",
        "  conv_3x3_pre = Conv2D(filters_3x3_reduce, kernel_size = 1, padding = \"same\")(x)\n",
        "  conv_3x3 = Conv2D(filters_3x3, kernel_size=3, padding = \"same\")(conv_3x3_pre)\n",
        "\n",
        "  conv_5x5_pre = Conv2D(filters_5x5_reduce, kernel_size = 1, padding = \"same\")(x)\n",
        "  conv_5x5 = Conv2D(filters_5x5, kernel_size = 5, padding = \"same\")(conv_5x5_pre)\n",
        "\n",
        "  max_pooling = MaxPooling2D(3, strides=1, padding = \"same\")(x)\n",
        "  max_1x1 = Conv2D(filters_pool_proj, kernel_size = 1, padding = \"same\")(max_pooling) \n",
        "\n",
        "  return Concatenate(axis = -1)([conv_1x1, conv_3x3, conv_5x5, max_1x1])"
      ]
    },
    {
      "cell_type": "code",
      "execution_count": null,
      "metadata": {
        "id": "OsjtNHECWLDV"
      },
      "outputs": [],
      "source": [
        "from keras import Input"
      ]
    },
    {
      "cell_type": "code",
      "execution_count": null,
      "metadata": {
        "id": "PlwvloxiXFf4"
      },
      "outputs": [],
      "source": [
        "input_layer = Input(shape=(224,224,3))"
      ]
    },
    {
      "cell_type": "code",
      "execution_count": null,
      "metadata": {
        "id": "j0vCXtgUWzoI"
      },
      "outputs": [],
      "source": [
        "y = inception(input_layer, 64, 96, 128, 16, 32, 32)"
      ]
    },
    {
      "cell_type": "code",
      "execution_count": null,
      "metadata": {
        "colab": {
          "base_uri": "https://localhost:8080/"
        },
        "id": "Au4G_IULW77I",
        "outputId": "83179514-315a-4640-aed7-9b96728890d1"
      },
      "outputs": [
        {
          "data": {
            "text/plain": [
              "TensorShape([None, 224, 224, 256])"
            ]
          },
          "execution_count": 107,
          "metadata": {},
          "output_type": "execute_result"
        }
      ],
      "source": [
        "y.shape"
      ]
    },
    {
      "cell_type": "markdown",
      "metadata": {
        "id": "PagZlzQoYr8w"
      },
      "source": [
        "### 경량 클래스 사용 해보기"
      ]
    },
    {
      "cell_type": "code",
      "execution_count": null,
      "metadata": {
        "id": "aafTL9ynYfGC"
      },
      "outputs": [],
      "source": [
        "def inception(self, x, filters_1x1, filters_3x3_reduce,filters_3x3, filters_5x5_reduce, filters_5x5, filters_pool_proj) :\n",
        "  self.x = x\n",
        "  self.filters_1x1 = filters_1x1\n",
        "  self.filters_3x3_reduce = filters_3x3_reduce\n",
        "  self.filters_3x3 = filters_3x3\n",
        "  self.filters_5x5_reduce = filters_5x5_reduce\n",
        "  self.filters_5x5 = filters_5x5\n",
        "  self.filters_pool_proj = filters_pool_proj\n",
        "\n",
        "  conv_1x1 = Conv2D(self.filters_1x1, padding = \"same\", kernel_size = 1, name='conv_1x1', activation = \"relu\")(self.x)\n",
        "\n",
        "  conv_3x3_pre = Conv2D(self.filters_3x3_reduce, kernel_size = 1, padding = \"same\", activation = \"relu\")(self.x)\n",
        "  conv_3x3 = Conv2D(self.filters_3x3, kernel_size=3, padding = \"same\", activation = \"relu\")(conv_3x3_pre)\n",
        "\n",
        "  conv_5x5_pre = Conv2D(self.filters_5x5_reduce, kernel_size = 1, padding = \"same\", activation = \"relu\")(self.x)\n",
        "  conv_5x5 = Conv2D(self.filters_5x5, kernel_size = 5, padding = \"same\", activation = \"relu\")(conv_5x5_pre)\n",
        "\n",
        "  max_pooling = MaxPooling2D(3, strides=1, padding = \"same\")(self.x)\n",
        "  max_1x1 = Conv2D(self.filters_pool_proj, kernel_size = 1, padding = \"same\")(max_pooling) \n",
        "\n",
        "  return Concatenate(axis = 3)([conv_1x1, conv_3x3, conv_5x5, max_1x1])"
      ]
    },
    {
      "cell_type": "code",
      "execution_count": null,
      "metadata": {
        "id": "N9Wau4s2ZYr_"
      },
      "outputs": [],
      "source": [
        "Inception = type(\"stats\", (object,), {\"func\" : inception})"
      ]
    },
    {
      "cell_type": "code",
      "execution_count": null,
      "metadata": {
        "id": "Z9L7obLpZqKF"
      },
      "outputs": [],
      "source": [
        "inception_module = Inception()"
      ]
    },
    {
      "cell_type": "code",
      "execution_count": null,
      "metadata": {
        "colab": {
          "base_uri": "https://localhost:8080/"
        },
        "id": "Hnb4mHGEZzy7",
        "outputId": "52983ff8-f5fa-44b1-e3b1-6a900d1495da"
      },
      "outputs": [
        {
          "data": {
            "text/plain": [
              "<KerasTensor: shape=(None, 224, 224, 256) dtype=float32 (created by layer 'concatenate_7')>"
            ]
          },
          "execution_count": 114,
          "metadata": {},
          "output_type": "execute_result"
        }
      ],
      "source": [
        "inception_module.func(input_layer, 64, 96, 128, 16, 32, 32)"
      ]
    },
    {
      "cell_type": "code",
      "execution_count": null,
      "metadata": {
        "id": "LzWQUcor8avS"
      },
      "outputs": [],
      "source": [
        "from keras.layers import Conv2D, BatchNormalization, Activation, Add"
      ]
    },
    {
      "cell_type": "markdown",
      "metadata": {
        "id": "uJrE41tD_WrH"
      },
      "source": [
        "### ResNet 구현하기"
      ]
    },
    {
      "cell_type": "code",
      "execution_count": null,
      "metadata": {
        "id": "ctjO6rU_eBE5"
      },
      "outputs": [],
      "source": [
        "def bottleneck_residual_block(x, filter, reduce = False, s = 2) :\n",
        "  f1, f2, f3 = filter \n",
        "  \n",
        "  x_self = x\n",
        "\n",
        "\n",
        "  if reduce : # 지름길 가는 경우, 지름길 값과 1번째 층 생성\n",
        "    x_self = Conv2D(filters = f3, kernel_size = 1, strides = s, padding = \"same\")(x_self)\n",
        "    x_self = BatchNormalization()(x_self)\n",
        "    \n",
        "    conv_1x1_pre = Conv2D(filters = f1, kernel_size = 1, padding = \"same\")(x)\n",
        "    conv_1x1_pre = BatchNormalization()(conv_1x1_pre)\n",
        "    conv_1x1_pre = Activation(\"relu\")(conv_1x1_pre)\n",
        "\n",
        "  else : # 지름길을 가지 않는 경우 = 1번째 층 생성\n",
        "    conv_1x1_pre = Conv2D(filters = f1, kernel_size = 1, name = \"5\", padding = \"same\")(x_self)\n",
        "    conv_1x1_pre = BatchNormalization()(conv_1x1_pre)\n",
        "    conv_1x1_pre = Activation(\"relu\")(conv_1x1_pre)\n",
        "\n",
        "  # 공통 작업 나머지 층 생성\n",
        "  conv_3x3 = Conv2D(filters = f2, kernel_size = 3, name = \"3\", padding = \"same\")(conv_1x1_pre)\n",
        "  conv_3x3 = BatchNormalization()(conv_3x3)\n",
        "  conv_3x3 = Activation(\"relu\")(conv_3x3)\n",
        "\n",
        "  conv_1x1_post = Conv2D(filters = f3, kernel_size = 1, name = \"4\", padding = \"same\")(conv_3x3)\n",
        "  conv_1x1_post = BatchNormalization()(conv_1x1_post)\n",
        "  \n",
        "  # 224, 224, 3 != 224,224,256\n",
        "  if reduce :\n",
        "    output = Add()([x_self, conv_1x1_post])\n",
        "    output = Activation(\"relu\")(output)\n",
        "  else :\n",
        "    output = Activation(\"relu\")(conv_1x1_post)\n",
        "\n",
        "  return output"
      ]
    },
    {
      "cell_type": "code",
      "execution_count": null,
      "metadata": {
        "id": "sGHIKl4W-DZD"
      },
      "outputs": [],
      "source": [
        "input_layer = Input(shape=(224,224,3))"
      ]
    },
    {
      "cell_type": "code",
      "execution_count": null,
      "metadata": {
        "id": "Kc3YX8mf-Ic6"
      },
      "outputs": [],
      "source": [
        "filter = (64,64,256)"
      ]
    },
    {
      "cell_type": "code",
      "execution_count": null,
      "metadata": {
        "colab": {
          "base_uri": "https://localhost:8080/"
        },
        "id": "vIkzmljC9kum",
        "outputId": "213a2c13-4b58-4d2d-f012-c6c6faee7abc"
      },
      "outputs": [
        {
          "data": {
            "text/plain": [
              "<KerasTensor: shape=(None, 224, 224, 256) dtype=float32 (created by layer 'activation_56')>"
            ]
          },
          "execution_count": 117,
          "metadata": {},
          "output_type": "execute_result"
        }
      ],
      "source": [
        "bottleneck_residual_block(input_layer, filter)"
      ]
    },
    {
      "cell_type": "code",
      "execution_count": null,
      "metadata": {
        "id": "ioB9jolTOsu0"
      },
      "outputs": [],
      "source": [
        "from keras import Model"
      ]
    },
    {
      "cell_type": "code",
      "execution_count": null,
      "metadata": {
        "id": "U7GanYYgNNoJ"
      },
      "outputs": [],
      "source": [
        "def ResNet50(input_shape, classes) :\n",
        "  input_layer = Input(input_shape)\n",
        "  print(input_layer)\n",
        "  #1\n",
        "  step_1 = Conv2D(filters = 64, kernel_size = 7, strides = 2, padding = \"same\")(input_layer)\n",
        "  step_1 = BatchNormalization(axis = 3)(step_1)\n",
        "  step_1 = Activation(\"relu\")(step_1)\n",
        "  step_1 = MaxPooling2D(3, strides = 2, padding = \"same\")(step_1)\n",
        "\n",
        "  #2\n",
        "  step_2 = bottleneck_residual_block(x, (64,64,256), reduce = True, s = 1)\n",
        "  step_2 = bottleneck_residual_block(x, (64,64,256))\n",
        "  step_2 = bottleneck_residual_block(x, (64,64,256))\n",
        "\n",
        "  #3\n",
        "  step_3 = bottleneck_residual_block(x, (128,128,256), reduce = True, s = 2)\n",
        "  step_3 = bottleneck_residual_block(x, (128,128,256))\n",
        "  step_3 = bottleneck_residual_block(x, (128,128,256))\n",
        "  step_3 = bottleneck_residual_block(x, (128,128,256))\n",
        "\n",
        "  #4\n",
        "  step_4 = bottleneck_residual_block(x, (256,256,1024))\n",
        "  step_4 = bottleneck_residual_block(x, (256,256,1024))\n",
        "  step_4 = bottleneck_residual_block(x, (256,256,1024))\n",
        "  step_4 = bottleneck_residual_block(x, (256,256,1024))\n",
        "  step_4 = bottleneck_residual_block(x, (256,256,1024))\n",
        "  step_4 = bottleneck_residual_block(x, (256,256,1024))\n",
        "\n",
        "  #5\n",
        "  step_5 = bottleneck_residual_block(x, (512,512,2048))\n",
        "  step_5 = bottleneck_residual_block(x, (512,512,2048))\n",
        "  step_5 = bottleneck_residual_block(x, (512,512,2048))\n",
        "\n",
        "  # Pooling\n",
        "  pooling = AveragePooling2D(1)(step_5)\n",
        "  \n",
        "  # print\n",
        "  flat = Flatten()(pooling)\n",
        "  dens = Dense(classes, activation = \"softmax\")(flat)\n",
        "\n",
        "  model = Model(inputs = input_layer, outputs = dens)\n",
        "\n",
        "  return model"
      ]
    },
    {
      "cell_type": "code",
      "execution_count": null,
      "metadata": {
        "colab": {
          "base_uri": "https://localhost:8080/",
          "height": 339
        },
        "id": "uDiowU8pP4tb",
        "outputId": "c28ebd46-419a-4bf8-a47e-221d10a451af"
      },
      "outputs": [
        {
          "name": "stdout",
          "output_type": "stream",
          "text": [
            "KerasTensor(type_spec=TensorSpec(shape=(None, 224, 224, 3), dtype=tf.float32, name='input_25'), name='input_25', description=\"created by layer 'input_25'\")\n"
          ]
        },
        {
          "ename": "ValueError",
          "evalue": "ignored",
          "output_type": "error",
          "traceback": [
            "\u001b[0;31m---------------------------------------------------------------------------\u001b[0m",
            "\u001b[0;31mValueError\u001b[0m                                Traceback (most recent call last)",
            "\u001b[0;32m<ipython-input-132-6d890113f6f1>\u001b[0m in \u001b[0;36m<module>\u001b[0;34m\u001b[0m\n\u001b[0;32m----> 1\u001b[0;31m \u001b[0mResNet50\u001b[0m\u001b[0;34m(\u001b[0m\u001b[0;34m(\u001b[0m\u001b[0;36m224\u001b[0m\u001b[0;34m,\u001b[0m\u001b[0;36m224\u001b[0m\u001b[0;34m,\u001b[0m\u001b[0;36m3\u001b[0m\u001b[0;34m)\u001b[0m\u001b[0;34m,\u001b[0m \u001b[0;36m1000\u001b[0m\u001b[0;34m)\u001b[0m\u001b[0;34m\u001b[0m\u001b[0;34m\u001b[0m\u001b[0m\n\u001b[0m",
            "\u001b[0;32m<ipython-input-131-cc90303403f0>\u001b[0m in \u001b[0;36mResNet50\u001b[0;34m(input_shape, classes)\u001b[0m\n\u001b[1;32m     14\u001b[0m \u001b[0;34m\u001b[0m\u001b[0m\n\u001b[1;32m     15\u001b[0m   \u001b[0;31m#3\u001b[0m\u001b[0;34m\u001b[0m\u001b[0;34m\u001b[0m\u001b[0;34m\u001b[0m\u001b[0m\n\u001b[0;32m---> 16\u001b[0;31m   \u001b[0mstep_3\u001b[0m \u001b[0;34m=\u001b[0m \u001b[0mbottleneck_residual_block\u001b[0m\u001b[0;34m(\u001b[0m\u001b[0mx\u001b[0m\u001b[0;34m,\u001b[0m \u001b[0;34m(\u001b[0m\u001b[0;36m128\u001b[0m\u001b[0;34m,\u001b[0m\u001b[0;36m128\u001b[0m\u001b[0;34m,\u001b[0m\u001b[0;36m256\u001b[0m\u001b[0;34m)\u001b[0m\u001b[0;34m,\u001b[0m \u001b[0mreduce\u001b[0m \u001b[0;34m=\u001b[0m \u001b[0;32mTrue\u001b[0m\u001b[0;34m,\u001b[0m \u001b[0ms\u001b[0m \u001b[0;34m=\u001b[0m \u001b[0;36m2\u001b[0m\u001b[0;34m)\u001b[0m\u001b[0;34m\u001b[0m\u001b[0;34m\u001b[0m\u001b[0m\n\u001b[0m\u001b[1;32m     17\u001b[0m   \u001b[0mstep_3\u001b[0m \u001b[0;34m=\u001b[0m \u001b[0mbottleneck_residual_block\u001b[0m\u001b[0;34m(\u001b[0m\u001b[0mx\u001b[0m\u001b[0;34m,\u001b[0m \u001b[0;34m(\u001b[0m\u001b[0;36m128\u001b[0m\u001b[0;34m,\u001b[0m\u001b[0;36m128\u001b[0m\u001b[0;34m,\u001b[0m\u001b[0;36m256\u001b[0m\u001b[0;34m)\u001b[0m\u001b[0;34m)\u001b[0m\u001b[0;34m\u001b[0m\u001b[0;34m\u001b[0m\u001b[0m\n\u001b[1;32m     18\u001b[0m   \u001b[0mstep_3\u001b[0m \u001b[0;34m=\u001b[0m \u001b[0mbottleneck_residual_block\u001b[0m\u001b[0;34m(\u001b[0m\u001b[0mx\u001b[0m\u001b[0;34m,\u001b[0m \u001b[0;34m(\u001b[0m\u001b[0;36m128\u001b[0m\u001b[0;34m,\u001b[0m\u001b[0;36m128\u001b[0m\u001b[0;34m,\u001b[0m\u001b[0;36m256\u001b[0m\u001b[0;34m)\u001b[0m\u001b[0;34m)\u001b[0m\u001b[0;34m\u001b[0m\u001b[0;34m\u001b[0m\u001b[0m\n",
            "\u001b[0;32m<ipython-input-118-0dbd6cdad1ae>\u001b[0m in \u001b[0;36mbottleneck_residual_block\u001b[0;34m(x, filter, reduce, s)\u001b[0m\n\u001b[1;32m     28\u001b[0m   \u001b[0;31m# 224, 224, 3 != 224,224,256\u001b[0m\u001b[0;34m\u001b[0m\u001b[0;34m\u001b[0m\u001b[0;34m\u001b[0m\u001b[0m\n\u001b[1;32m     29\u001b[0m   \u001b[0;32mif\u001b[0m \u001b[0mreduce\u001b[0m \u001b[0;34m:\u001b[0m\u001b[0;34m\u001b[0m\u001b[0;34m\u001b[0m\u001b[0m\n\u001b[0;32m---> 30\u001b[0;31m     \u001b[0moutput\u001b[0m \u001b[0;34m=\u001b[0m \u001b[0mAdd\u001b[0m\u001b[0;34m(\u001b[0m\u001b[0;34m)\u001b[0m\u001b[0;34m(\u001b[0m\u001b[0;34m[\u001b[0m\u001b[0mx_self\u001b[0m\u001b[0;34m,\u001b[0m \u001b[0mconv_1x1_post\u001b[0m\u001b[0;34m]\u001b[0m\u001b[0;34m)\u001b[0m\u001b[0;34m\u001b[0m\u001b[0;34m\u001b[0m\u001b[0m\n\u001b[0m\u001b[1;32m     31\u001b[0m     \u001b[0moutput\u001b[0m \u001b[0;34m=\u001b[0m \u001b[0mActivation\u001b[0m\u001b[0;34m(\u001b[0m\u001b[0;34m\"relu\"\u001b[0m\u001b[0;34m)\u001b[0m\u001b[0;34m(\u001b[0m\u001b[0moutput\u001b[0m\u001b[0;34m)\u001b[0m\u001b[0;34m\u001b[0m\u001b[0;34m\u001b[0m\u001b[0m\n\u001b[1;32m     32\u001b[0m   \u001b[0;32melse\u001b[0m \u001b[0;34m:\u001b[0m\u001b[0;34m\u001b[0m\u001b[0;34m\u001b[0m\u001b[0m\n",
            "\u001b[0;32m/usr/local/lib/python3.8/dist-packages/keras/utils/traceback_utils.py\u001b[0m in \u001b[0;36merror_handler\u001b[0;34m(*args, **kwargs)\u001b[0m\n\u001b[1;32m     65\u001b[0m     \u001b[0;32mexcept\u001b[0m \u001b[0mException\u001b[0m \u001b[0;32mas\u001b[0m \u001b[0me\u001b[0m\u001b[0;34m:\u001b[0m  \u001b[0;31m# pylint: disable=broad-except\u001b[0m\u001b[0;34m\u001b[0m\u001b[0;34m\u001b[0m\u001b[0m\n\u001b[1;32m     66\u001b[0m       \u001b[0mfiltered_tb\u001b[0m \u001b[0;34m=\u001b[0m \u001b[0m_process_traceback_frames\u001b[0m\u001b[0;34m(\u001b[0m\u001b[0me\u001b[0m\u001b[0;34m.\u001b[0m\u001b[0m__traceback__\u001b[0m\u001b[0;34m)\u001b[0m\u001b[0;34m\u001b[0m\u001b[0;34m\u001b[0m\u001b[0m\n\u001b[0;32m---> 67\u001b[0;31m       \u001b[0;32mraise\u001b[0m \u001b[0me\u001b[0m\u001b[0;34m.\u001b[0m\u001b[0mwith_traceback\u001b[0m\u001b[0;34m(\u001b[0m\u001b[0mfiltered_tb\u001b[0m\u001b[0;34m)\u001b[0m \u001b[0;32mfrom\u001b[0m \u001b[0;32mNone\u001b[0m\u001b[0;34m\u001b[0m\u001b[0;34m\u001b[0m\u001b[0m\n\u001b[0m\u001b[1;32m     68\u001b[0m     \u001b[0;32mfinally\u001b[0m\u001b[0;34m:\u001b[0m\u001b[0;34m\u001b[0m\u001b[0;34m\u001b[0m\u001b[0m\n\u001b[1;32m     69\u001b[0m       \u001b[0;32mdel\u001b[0m \u001b[0mfiltered_tb\u001b[0m\u001b[0;34m\u001b[0m\u001b[0;34m\u001b[0m\u001b[0m\n",
            "\u001b[0;32m/usr/local/lib/python3.8/dist-packages/keras/layers/merging/base_merge.py\u001b[0m in \u001b[0;36m_compute_elemwise_op_output_shape\u001b[0;34m(self, shape1, shape2)\u001b[0m\n\u001b[1;32m     71\u001b[0m       \u001b[0;32melse\u001b[0m\u001b[0;34m:\u001b[0m\u001b[0;34m\u001b[0m\u001b[0;34m\u001b[0m\u001b[0m\n\u001b[1;32m     72\u001b[0m         \u001b[0;32mif\u001b[0m \u001b[0mi\u001b[0m \u001b[0;34m!=\u001b[0m \u001b[0mj\u001b[0m\u001b[0;34m:\u001b[0m\u001b[0;34m\u001b[0m\u001b[0;34m\u001b[0m\u001b[0m\n\u001b[0;32m---> 73\u001b[0;31m           raise ValueError(\n\u001b[0m\u001b[1;32m     74\u001b[0m               \u001b[0;34m'Inputs have incompatible shapes. '\u001b[0m\u001b[0;34m\u001b[0m\u001b[0;34m\u001b[0m\u001b[0m\n\u001b[1;32m     75\u001b[0m               f'Received shapes {shape1} and {shape2}')\n",
            "\u001b[0;31mValueError\u001b[0m: Inputs have incompatible shapes. Received shapes (28, 28, 256) and (56, 56, 256)"
          ]
        }
      ],
      "source": [
        "ResNet50((224,224,3), 1000)"
      ]
    },
    {
      "cell_type": "code",
      "execution_count": null,
      "metadata": {
        "colab": {
          "base_uri": "https://localhost:8080/"
        },
        "id": "A_4W6zw1-Npo",
        "outputId": "80d8fe0d-c80c-4f02-d776-bd4e2d8d765e"
      },
      "outputs": [
        {
          "name": "stdout",
          "output_type": "stream",
          "text": [
            "(None, 112, 112, 64)\n",
            "(None, 56, 56, 64)\n"
          ]
        }
      ],
      "source": [
        "x = Conv2D(filters = 64, kernel_size = 7, strides = 2, padding = \"same\")(input_layer)\n",
        "x = BatchNormalization(axis = 3)(x)\n",
        "x = Activation(\"relu\")(x)\n",
        "x = MaxPooling2D(3, strides = 2, padding = \"same\")(x)\n",
        "\n"
      ]
    },
    {
      "cell_type": "code",
      "execution_count": null,
      "metadata": {
        "id": "4iXiWNxCJ1nE"
      },
      "outputs": [],
      "source": []
    }
  ],
  "metadata": {
    "accelerator": "GPU",
    "colab": {
      "provenance": []
    },
    "gpuClass": "premium",
    "kernelspec": {
      "display_name": "stack2_env",
      "language": "python",
      "name": "python3"
    },
    "language_info": {
      "name": "python",
      "version": "3.9.6 (default, Oct 18 2022, 12:41:40) \n[Clang 14.0.0 (clang-1400.0.29.202)]"
    },
    "vscode": {
      "interpreter": {
        "hash": "020ff5c6842523713bbff828f61980f5f01ad4bd804a66569d00f7a9e8e12340"
      }
    }
  },
  "nbformat": 4,
  "nbformat_minor": 0
}
